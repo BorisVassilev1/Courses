{
 "cells": [
  {
   "cell_type": "code",
   "execution_count": 1,
   "metadata": {},
   "outputs": [],
   "source": [
    "import numpy as np\n",
    "import pandas as pd\n",
    "import matplotlib.pyplot as plt\n",
    "import os\n",
    "import time"
   ]
  },
  {
   "cell_type": "code",
   "execution_count": 2,
   "metadata": {},
   "outputs": [
    {
     "name": "stdout",
     "output_type": "stream",
     "text": [
      "A 52912\n",
      "RnJlaWdodERpc3BCb29rSXRhbGljLnR0Zg==.png A\n",
      "SG90IE11c3RhcmQgQlROIFBvc3Rlci50dGY=.png A\n",
      "Um9tYW5hIEJvbGQucGZi.png A\n",
      "B 52912\n",
      "TmlraXNFRi1TZW1pQm9sZEl0YWxpYy5vdGY=.png B\n",
      "C 52912\n",
      "D 52912\n",
      "VHJhbnNpdCBCb2xkLnR0Zg==.png D\n",
      "E 52912\n",
      "F 52912\n",
      "G 52912\n",
      "H 52912\n",
      "I 52912\n",
      "J 52911\n",
      "529114\n",
      "A 1872\n",
      "B 1873\n",
      "C 1873\n",
      "D 1873\n",
      "E 1873\n",
      "F 1872\n",
      "G 1872\n",
      "H 1872\n",
      "I 1872\n",
      "J 1872\n",
      "18724\n",
      "(529114, 784) (529114, 10)\n",
      "(18724, 784) (18724, 10)\n"
     ]
    }
   ],
   "source": [
    "x_train, y_train = list(), list()\n",
    "x_test, y_test = list(), list()\n",
    "\n",
    "train_letters = os.listdir(\"./notMNIST_large\")\n",
    "test_letters = os.listdir(\"./notMNIST_small\")\n",
    "\n",
    "count = 0;\n",
    "for i, letter in enumerate(train_letters):\n",
    "    fonts = os.listdir(\"./notMNIST_large/\" + letter)\n",
    "    print(str(letter)+ \" \" + str(len(fonts)))\n",
    "    for j, font in enumerate(fonts):\n",
    "        img = None\n",
    "        try:\n",
    "            img = plt.imread(\"./notMNIST_large/\"+ letter + \"/\" + font)\n",
    "        except:\n",
    "            print(font + \" \" + letter)\n",
    "        if img is None :\n",
    "            count -= 1\n",
    "            continue\n",
    "        x_train.append(img.reshape([28*28]))\n",
    "        y_train.append(np.zeros(10))\n",
    "        y_train[count + j][i] = 1\n",
    "    count += len(fonts)\n",
    "print(count)\n",
    "\n",
    "count = 0;\n",
    "for i, letter in enumerate(test_letters):\n",
    "    fonts = os.listdir(\"./notMNIST_small/\" + letter)\n",
    "    print(str(letter)+ \" \" + str(len(fonts)))\n",
    "    for j, font in enumerate(fonts):\n",
    "        img = None\n",
    "        try:\n",
    "            img = plt.imread(\"./notMNIST_small/\"+ letter + \"/\" + font)\n",
    "        except:\n",
    "            print(font + \" \" + letter)\n",
    "            #plt.imshow(img)\n",
    "        #plt.imshow(img)\n",
    "        if img is None :\n",
    "            count -= 1\n",
    "            continue\n",
    "        x_test.append(img.reshape([28*28]))\n",
    "        y_test.append(np.zeros(10))\n",
    "        y_test[count + j][i] = 1\n",
    "    count += len(fonts)\n",
    "print(count)\n",
    "\n",
    "x_train = np.asarray(x_train)\n",
    "y_train = np.asarray(y_train)\n",
    "x_test = np.asarray(x_test)\n",
    "y_test = np.asarray(y_test)\n",
    "\n",
    "print(x_train.shape, y_train.shape)\n",
    "print(x_test.shape, y_test.shape)"
   ]
  },
  {
   "cell_type": "code",
   "execution_count": 3,
   "metadata": {},
   "outputs": [],
   "source": [
    "def shuffle(a,b):\n",
    "    assert len(a) == len(b)\n",
    "    p = np.random.permutation(len(a))\n",
    "    return a[p], b[p]"
   ]
  },
  {
   "cell_type": "code",
   "execution_count": 4,
   "metadata": {},
   "outputs": [],
   "source": [
    "x_train, y_train = shuffle(x_train,y_train)"
   ]
  },
  {
   "cell_type": "code",
   "execution_count": 5,
   "metadata": {},
   "outputs": [
    {
     "name": "stdout",
     "output_type": "stream",
     "text": [
      "[0. 1. 0. 0. 0. 0. 0. 0. 0. 0.]\n"
     ]
    },
    {
     "data": {
      "image/png": "[encoded data removed]",
      "text/plain": [
       "<Figure size 432x288 with 1 Axes>"
      ]
     },
     "metadata": {
      "needs_background": "light"
     },
     "output_type": "display_data"
    }
   ],
   "source": [
    "i = int(np.random.rand(1) * 18724)\n",
    "plt.imshow(x_train[i].reshape([28,28]))\n",
    "print(y_train[i])\n",
    "time.sleep(1);"
   ]
  },
  {
   "cell_type": "code",
   "execution_count": 6,
   "metadata": {},
   "outputs": [],
   "source": [
    "class NeuralNetwork:\n",
    "    layers = list()\n",
    "    \n",
    "    w = list()\n",
    "    b = list()\n",
    "    \n",
    "    a = list()\n",
    "    z = list()\n",
    "    \n",
    "    da = list()\n",
    "    db = list()\n",
    "    dw = list()\n",
    "    \n",
    "    activators = list()\n",
    "    \n",
    "    depth = 0\n",
    "    \n",
    "    def relu(self, x):\n",
    "        return np.maximum(0,x)\n",
    "    \n",
    "    def sigmoid(self,x):\n",
    "        return 1/(1+np.exp(-x))\n",
    "    \n",
    "    def drelu(self, x):\n",
    "        return x > 0\n",
    "    \n",
    "    def dsigmoid(self, x):\n",
    "        sigx = self.sigmoid(x)\n",
    "        return np.multiply(sigx, (1 - sigx))\n",
    "    \n",
    "    def __init__(self, input_size, layers_count, layers_size, activators, l_rate = 0.01):\n",
    "        self.layers = list()\n",
    "        self.w = list()\n",
    "        self.b = list()\n",
    "        self.a = list()\n",
    "        self.z = list()\n",
    "        \n",
    "        self.activators = activators\n",
    "        self.l_rate = l_rate\n",
    "        \n",
    "        self.layers.append(input_size)\n",
    "        self.a.append(0)\n",
    "        self.z.append(0)\n",
    "        for x in range(0,layers_count):\n",
    "            self.layers.append(layers_size[x])\n",
    "            self.a.append(0)\n",
    "            self.z.append(0)\n",
    "        \n",
    "        self.depth = len(self.layers)\n",
    "        \n",
    "        for x in range(1, self.depth):\n",
    "            #matarr = np.ndarray(shape=(self.layers[x-1], self.layers[x]))\n",
    "            matarr = np.random.normal(0,0.5, (self.layers[x-1], self.layers[x]))\n",
    "            mat = np.matrix(matarr)\n",
    "            self.w.append(mat)\n",
    "            #print(mat)\n",
    "            #barr = np.ndarray(self.layers[x])\n",
    "            barr = np.random.normal(0,0.5, self.layers[x])\n",
    "            #print(barr.shape)\n",
    "            #barr = barr.reshape((barr.shape[0], 1))\n",
    "            self.b.append(barr)\n",
    "        \n",
    "        \n",
    "    def predict(self,input):\n",
    "        self.a[0] = input\n",
    "        #print(self.a[0])\n",
    "        \n",
    "        for x in range(1,self.depth):\n",
    "            self.z[x] = np.matmul(self.a[x - 1], self.w[x - 1]) + self.b[x - 1]\n",
    "            if self.activators[x - 1] == \"sig\":\n",
    "                val = self.sigmoid(self.z[x])\n",
    "            elif self.activators[x - 1] == \"relu\":\n",
    "                val = self.relu(self.z[x])\n",
    "            self.a[x] = val\n",
    "            #print(\"wtf \" + str(x) + str(self.a[x]))\n",
    "        return self.a[self.depth - 1]\n",
    "    \n",
    "    def test(self, input, ans):\n",
    "        prediction = self.predict(input)\n",
    "        #c1 = np.array(list(np.array_equal(np.round(prediction[x]), ans[x]) for x in range(ans.shape[0])))\n",
    "        c1 = np.array(list(np.argmax(prediction[x]) == np.argmax(ans[x]) for x in range(ans.shape[0])))\n",
    "        #print(prediction)\n",
    "        \n",
    "        c = prediction - ans\n",
    "        c = np.square(c)\n",
    "        c = c.sum(axis = 1).mean()\n",
    "        return (c,c1.sum() / c1.shape[0])\n",
    "    \n",
    "    def train(self, input, ans):\n",
    "        prediction = self.predict(input)\n",
    "        #print(input.shape[0])\n",
    "        c = (prediction - ans)\n",
    "        c = np.square(c)\n",
    "        #print(c)\n",
    "        \n",
    "        prediction = np.swapaxes(prediction, 0,1)\n",
    "        ans = np.swapaxes(ans, 0,1)\n",
    "        \n",
    "        self.da = list() # dC(0)/da(Lj)\n",
    "        self.db = list() # dC(0)/db(Lj)\n",
    "        self.dw = list() # dC(0)/dw(Ljk)\n",
    "        \n",
    "        for i, x in enumerate(self.layers):\n",
    "            self.da.append(0)\n",
    "            self.db.append(0)\n",
    "            self.dw.append(0)\n",
    "        #print(len(self.db))\n",
    "        self.da[self.depth - 1] = 2 * (ans - prediction)\n",
    "        #print(self.da[self.depth - 1])\n",
    "        \n",
    "        #print(\"a\")\n",
    "        for x in range(self.depth - 2, 0, -1):\n",
    "            #print(x)\n",
    "            #print(self.w[x].shape, self.da[x+1].shape)\n",
    "            #a = np.asarray(np.matmul(self.w[x], da[x + 1]))\n",
    "            a = np.matmul(self.w[x], self.da[x + 1])\n",
    "            #print(a.shape)\n",
    "            #print(type(a))\n",
    "            #print(type(self.z[x]))\n",
    "            #print(a.shape, self.z[x].shape)\n",
    "            if self.activators[x - 1] == \"sig\":\n",
    "                #a = np.multiply(a, np.asarray(self.dsigmoid(self.z[x])))\n",
    "                a = np.multiply(a, np.swapaxes(self.dsigmoid(self.z[x]), 0, 1))\n",
    "            elif self.activators[x - 1] == \"relu\":\n",
    "                #a = np.multiply(a, np.asarray(self.drelu(self.z[x])))\n",
    "                a = np.multiply(a, np.swapaxes(self.drelu(self.z[x]), 0, 1))\n",
    "            #print(a)\n",
    "            #print(a.shape)\n",
    "            self.da[x] = a\n",
    "        #print(\"b\")\n",
    "        for x in range(1, self.depth):\n",
    "            #print(x)\n",
    "            if self.activators[x - 1] == \"sig\":\n",
    "                #a = np.multiply(a, np.asarray(self.dsigmoid(self.z[x])))\n",
    "                b = np.multiply(self.da[x], np.swapaxes(self.dsigmoid(self.z[x]), 0, 1))\n",
    "            elif self.activators[x - 1] == \"relu\":\n",
    "                #a = np.multiply(a, np.asarray(self.drelu(self.z[x])))\n",
    "                b = np.multiply(self.da[x], np.swapaxes(self.drelu(self.z[x]), 0, 1))\n",
    "            #print(b)\n",
    "            \n",
    "            self.db[x] = b\n",
    "            self.db[x] = np.mean(self.db[x], axis = 1)\n",
    "            #print(self.db[x].shape)\n",
    "            \n",
    "        #print(\"w\")\n",
    "        for x in range(1, self.depth):\n",
    "            \n",
    "            \n",
    "            _a = np.swapaxes(self.a[x - 1], 0, 1)\n",
    "            \n",
    "            w = np.zeros((_a.shape[0], self.da[x].shape[0], _a.shape[1]))\n",
    "            \n",
    "            for k in range(_a.shape[0]):\n",
    "                for j in range(self.da[x].shape[0]):\n",
    "                    w[k][j] = np.multiply(_a[k], self.da[x][j])\n",
    "            \n",
    "            self.dw[x] = w\n",
    "            self.dw[x] = np.mean(self.dw[x], axis = 2)\n",
    "            #print(self.dw[x].shape)\n",
    "        \n",
    "        for x in range(1, self.depth):\n",
    "            self.w[x - 1] += self.dw[x] * self.l_rate\n",
    "            \n",
    "            self.b[x - 1] = np.reshape(self.b[x - 1], (self.b[x - 1].shape[0], 1))\n",
    "            self.b[x - 1] += self.db[x] * self.l_rate\n",
    "            self.b[x - 1] = np.squeeze(self.b[x - 1])"
   ]
  },
  {
   "cell_type": "code",
   "execution_count": 7,
   "metadata": {},
   "outputs": [],
   "source": [
    "nn = NeuralNetwork(784,2,(16,10), (\"relu\", \"sig\"))"
   ]
  },
  {
   "cell_type": "code",
   "execution_count": 8,
   "metadata": {},
   "outputs": [],
   "source": [
    "ans = nn.predict(x_train)"
   ]
  },
  {
   "cell_type": "code",
   "execution_count": 9,
   "metadata": {},
   "outputs": [
    {
     "data": {
      "text/plain": [
       "(3.1612300252439187, 0.12840522080307834)"
      ]
     },
     "execution_count": 9,
     "metadata": {},
     "output_type": "execute_result"
    }
   ],
   "source": [
    "nn.train(x_train[:100], y_train[:100])\n",
    "nn.test(x_train, y_train)\n",
    "#nn.dw"
   ]
  },
  {
   "cell_type": "code",
   "execution_count": null,
   "metadata": {},
   "outputs": [
    {
     "name": "stdout",
     "output_type": "stream",
     "text": [
      "Epoch:  0 Batch:  575 Train accuracy:  (0.5580644964335529, 0.6569737334487464) Test accuracy:  (0.4884173266030588, 0.7224417859431745))\r"
     ]
    }
   ],
   "source": [
    "batch_size = 200\n",
    "epochs = 10\n",
    "nn.l_rate = 0.01\n",
    "\n",
    "batches = x_train.shape[0] // batch_size\n",
    "#batch_length = int(np.floor(x_train.shape[0] / (batches)))\n",
    "for y in range(epochs):\n",
    "    for x in range(batches + 1):\n",
    "        if x == batches:\n",
    "            if x_train.shape[0] != batch_size * batches:\n",
    "                nn.train(x_train[batch_size * batches:], y_train[batch_size * batches:])\n",
    "            break\n",
    "        nn.train(x_train[batch_size * x : batch_size * (x + 1) - 1], y_train[batch_size * x : batch_size * (x + 1) - 1])\n",
    "        #print(\"a\")\n",
    "        print(\"Epoch: \", y, \"Batch: \", x ,\"Train accuracy: \", nn.test(x_train, y_train), \"Test accuracy: \", nn.test(x_test, y_test), end=\"\\r\")\n",
    "    #print(\"epoch finished!\")\n",
    "    x_train, y_train = shuffle(x_train,y_train)\n",
    "    "
   ]
  },
  {
   "cell_type": "code",
   "execution_count": null,
   "metadata": {},
   "outputs": [],
   "source": []
  }
 ],
 "metadata": {
  "kernelspec": {
   "display_name": "Python 3",
   "language": "python",
   "name": "python3"
  },
  "language_info": {
   "codemirror_mode": {
    "name": "ipython",
    "version": 3
   },
   "file_extension": ".py",
   "mimetype": "text/x-python",
   "name": "python",
   "nbconvert_exporter": "python",
   "pygments_lexer": "ipython3",
   "version": "3.7.4"
  }
 },
 "nbformat": 4,
 "nbformat_minor": 4
}
