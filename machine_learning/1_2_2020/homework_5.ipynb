{
 "cells": [
  {
   "cell_type": "code",
   "execution_count": 1,
   "metadata": {},
   "outputs": [],
   "source": [
    "import tensorflow as tf"
   ]
  },
  {
   "cell_type": "code",
   "execution_count": 2,
   "metadata": {},
   "outputs": [
    {
     "name": "stdout",
     "output_type": "stream",
     "text": [
      "tf.Tensor(1127892.9, shape=(), dtype=float32)\n"
     ]
    }
   ],
   "source": [
    "def matrix_mul1():\n",
    "    a = tf.random.normal([10000, 10000], 0, 1)\n",
    "    b = tf.random.normal([10000, 10000], 0, 1)\n",
    "    return tf.reduce_sum(tf.matmul(a, b))\n",
    "\n",
    "print(matrix_mul1())"
   ]
  },
  {
   "cell_type": "code",
   "execution_count": 3,
   "metadata": {},
   "outputs": [
    {
     "name": "stdout",
     "output_type": "stream",
     "text": [
      "tf.Tensor(-453267.62, shape=(), dtype=float32)\n"
     ]
    }
   ],
   "source": [
    "@tf.function\n",
    "def matrix_mul2():\n",
    "    a = tf.random.normal([10000, 10000], 0, 1)\n",
    "    b = tf.random.normal([10000, 10000], 0, 1)\n",
    "    return tf.reduce_sum(tf.matmul(a, b))\n",
    "\n",
    "print(matrix_mul2())"
   ]
  },
  {
   "cell_type": "code",
   "execution_count": 5,
   "metadata": {},
   "outputs": [
    {
     "name": "stdout",
     "output_type": "stream",
     "text": [
      "286177.22280946845\n"
     ]
    }
   ],
   "source": [
    "import numpy as np\n",
    "def matrix_mulnp():\n",
    "    a = np.random.normal(0, 1, [10000, 10000])\n",
    "    b = np.random.normal(0, 1, [10000, 10000])\n",
    "    return np.sum(np.matmul(a, b))\n",
    "\n",
    "print(matrix_mulnp())"
   ]
  },
  {
   "cell_type": "code",
   "execution_count": 6,
   "metadata": {},
   "outputs": [
    {
     "name": "stdout",
     "output_type": "stream",
     "text": [
      "-164153.4381208003\n",
      "np time is 16.09217143058777\n",
      "tf.Tensor(-637474.0, shape=(), dtype=float32)\n",
      "mul1 time is 7.627596616744995\n",
      "tf.Tensor(859570.2, shape=(), dtype=float32)\n",
      "mul2 time is 7.143887281417847\n"
     ]
    }
   ],
   "source": [
    "import time\n",
    "\n",
    "start = time.time()\n",
    "print(matrix_mulnp())\n",
    "end = time.time()\n",
    "print(f'np time is {end-start}')\n",
    "\n",
    "start = time.time()\n",
    "print(matrix_mul1())\n",
    "end = time.time()\n",
    "print(f'mul1 time is {end-start}')\n",
    "\n",
    "start = time.time()\n",
    "print(matrix_mul2())\n",
    "end = time.time()\n",
    "print(f'mul2 time is {end-start}')"
   ]
  },
  {
   "cell_type": "code",
   "execution_count": 2,
   "metadata": {},
   "outputs": [],
   "source": [
    "#това не ми ползва видео катрата. +това е 2.0, така че очакваме доста бъгове."
   ]
  },
  {
   "cell_type": "code",
   "execution_count": 3,
   "metadata": {},
   "outputs": [],
   "source": [
    "import os\n",
    "import matplotlib.pyplot as plt\n",
    "import numpy as np"
   ]
  },
  {
   "cell_type": "code",
   "execution_count": 11,
   "metadata": {},
   "outputs": [
    {
     "name": "stdout",
     "output_type": "stream",
     "text": [
      "A 52912\n",
      "RnJlaWdodERpc3BCb29rSXRhbGljLnR0Zg==.png A\n",
      "SG90IE11c3RhcmQgQlROIFBvc3Rlci50dGY=.png A\n",
      "Um9tYW5hIEJvbGQucGZi.png A\n",
      "B 52912\n",
      "TmlraXNFRi1TZW1pQm9sZEl0YWxpYy5vdGY=.png B\n",
      "C 52912\n",
      "D 52912\n",
      "VHJhbnNpdCBCb2xkLnR0Zg==.png D\n",
      "E 52912\n",
      "F 52912\n",
      "G 52912\n",
      "H 52912\n",
      "I 52912\n",
      "J 52911\n",
      "529114\n",
      "A 1873\n",
      "RGVtb2NyYXRpY2FCb2xkT2xkc3R5bGUgQm9sZC50dGY=.png A\n",
      "B 1873\n",
      "C 1873\n",
      "D 1873\n",
      "E 1873\n",
      "F 1873\n",
      "Q3Jvc3NvdmVyIEJvbGRPYmxpcXVlLnR0Zg==.png F\n",
      "G 1872\n",
      "H 1872\n",
      "I 1872\n",
      "J 1872\n",
      "18724\n",
      "(529114, 784) (529114, 10)\n",
      "(18724, 784) (18724, 10)\n"
     ]
    }
   ],
   "source": [
    "x_train, y_train = list(), list()\n",
    "x_test, y_test = list(), list()\n",
    "\n",
    "train_letters = os.listdir(\"./notMNIST_large\")\n",
    "test_letters = os.listdir(\"./notMNIST_small\")\n",
    "\n",
    "count = 0;\n",
    "for i, letter in enumerate(train_letters):\n",
    "    fonts = os.listdir(\"./notMNIST_large/\" + letter)\n",
    "    print(str(letter)+ \" \" + str(len(fonts)))\n",
    "    for j, font in enumerate(fonts):\n",
    "        img = None\n",
    "        try:\n",
    "            img = plt.imread(\"./notMNIST_large/\"+ letter + \"/\" + font)\n",
    "        except:\n",
    "            print(font + \" \" + letter)\n",
    "            #plt.imshow(img)\n",
    "        #plt.imshow(img)\n",
    "        if img is None :\n",
    "            count -= 1\n",
    "            continue\n",
    "        x_train.append(img.reshape([28*28]))\n",
    "        y_train.append(np.zeros(10))\n",
    "        y_train[count + j][i] = 1\n",
    "    count += len(fonts)\n",
    "print(count)\n",
    "\n",
    "count = 0;\n",
    "for i, letter in enumerate(test_letters):\n",
    "    fonts = os.listdir(\"./notMNIST_small/\" + letter)\n",
    "    print(str(letter)+ \" \" + str(len(fonts)))\n",
    "    for j, font in enumerate(fonts):\n",
    "        img = None\n",
    "        try:\n",
    "            img = plt.imread(\"./notMNIST_small/\"+ letter + \"/\" + font)\n",
    "        except:\n",
    "            print(font + \" \" + letter)\n",
    "            #plt.imshow(img)\n",
    "        #plt.imshow(img)\n",
    "        if img is None :\n",
    "            count -= 1\n",
    "            continue\n",
    "        x_test.append(img.reshape([28*28]))\n",
    "        y_test.append(np.zeros(10))\n",
    "        y_test[count + j][i] = 1\n",
    "    count += len(fonts)\n",
    "print(count)\n",
    "\n",
    "x_train = np.asarray(x_train)\n",
    "y_train = np.asarray(y_train)\n",
    "x_test = np.asarray(x_test)\n",
    "y_test = np.asarray(y_test)\n",
    "\n",
    "print(x_train.shape, y_train.shape)\n",
    "print(x_test.shape, y_test.shape)"
   ]
  },
  {
   "cell_type": "code",
   "execution_count": 12,
   "metadata": {},
   "outputs": [
    {
     "name": "stdout",
     "output_type": "stream",
     "text": [
      "Train on 529114 samples, validate on 18724 samples\n",
      "Epoch 1/10\n",
      "529114/529114 [==============================] - 4s 8us/sample - loss: 0.8046 - accuracy: 0.7852 - val_loss: 0.4346 - val_accuracy: 0.8884\n",
      "Epoch 2/10\n",
      "529114/529114 [==============================] - 4s 7us/sample - loss: 0.6361 - accuracy: 0.8268 - val_loss: 0.3915 - val_accuracy: 0.8965\n",
      "Epoch 3/10\n",
      "529114/529114 [==============================] - 4s 7us/sample - loss: 0.5997 - accuracy: 0.8336 - val_loss: 0.3693 - val_accuracy: 0.9009\n",
      "Epoch 4/10\n",
      "529114/529114 [==============================] - 4s 7us/sample - loss: 0.5777 - accuracy: 0.8380 - val_loss: 0.3533 - val_accuracy: 0.9032\n",
      "Epoch 5/10\n",
      "529114/529114 [==============================] - 3s 7us/sample - loss: 0.5615 - accuracy: 0.8415 - val_loss: 0.3422 - val_accuracy: 0.9059\n",
      "Epoch 6/10\n",
      "529114/529114 [==============================] - 3s 6us/sample - loss: 0.5489 - accuracy: 0.8443 - val_loss: 0.3343 - val_accuracy: 0.9084\n",
      "Epoch 7/10\n",
      "529114/529114 [==============================] - 3s 6us/sample - loss: 0.5387 - accuracy: 0.8467 - val_loss: 0.3251 - val_accuracy: 0.9090\n",
      "Epoch 8/10\n",
      "529114/529114 [==============================] - 3s 6us/sample - loss: 0.5296 - accuracy: 0.8486 - val_loss: 0.3190 - val_accuracy: 0.9105\n",
      "Epoch 9/10\n",
      "529114/529114 [==============================] - 3s 6us/sample - loss: 0.5214 - accuracy: 0.8506 - val_loss: 0.3133 - val_accuracy: 0.9115\n",
      "Epoch 10/10\n",
      "529114/529114 [==============================] - 3s 6us/sample - loss: 0.5143 - accuracy: 0.8522 - val_loss: 0.3083 - val_accuracy: 0.9136\n"
     ]
    },
    {
     "data": {
      "text/plain": [
       "<tensorflow.python.keras.callbacks.History at 0x23ecb13fe88>"
      ]
     },
     "execution_count": 12,
     "metadata": {},
     "output_type": "execute_result"
    }
   ],
   "source": [
    "model = tf.keras.Sequential()\n",
    "model.add(tf.keras.layers.Dense(32, input_dim=28*28, activation=\"relu\"))\n",
    "model.add(tf.keras.layers.Dense(10, activation=\"softmax\"))\n",
    "\n",
    "model.compile(tf.optimizers.SGD(1e-2), loss=\"categorical_crossentropy\", metrics=[\"accuracy\"])\n",
    "model.fit(x_train, y_train, batch_size=256, epochs=10, validation_data=(x_test, y_test))"
   ]
  },
  {
   "cell_type": "code",
   "execution_count": 13,
   "metadata": {},
   "outputs": [],
   "source": [
    "#zashto e tolkova burzo??"
   ]
  },
  {
   "cell_type": "code",
   "execution_count": null,
   "metadata": {},
   "outputs": [],
   "source": []
  }
 ],
 "metadata": {
  "kernelspec": {
   "display_name": "Python 3",
   "language": "python",
   "name": "python3"
  },
  "language_info": {
   "codemirror_mode": {
    "name": "ipython",
    "version": 3
   },
   "file_extension": ".py",
   "mimetype": "text/x-python",
   "name": "python",
   "nbconvert_exporter": "python",
   "pygments_lexer": "ipython3",
   "version": "3.7.4"
  }
 },
 "nbformat": 4,
 "nbformat_minor": 4
}
